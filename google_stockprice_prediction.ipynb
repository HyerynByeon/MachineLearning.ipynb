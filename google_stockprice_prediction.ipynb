{
 "cells": [
  {
   "cell_type": "code",
   "execution_count": 1,
   "id": "e98c91d4-1a1d-446f-bfc8-4c02ceb9d119",
   "metadata": {},
   "outputs": [],
   "source": [
    "import numpy as np\n",
    "import pandas as pd\n",
    "import matplotlib.pyplot as plt\n",
    "import seaborn as sns\n",
    "import warnings\n",
    "import mplfinance as mpf\n",
    "import statsmodels.api as sm\n",
    "warnings.filterwarnings(\"ignore\")\n",
    "\n",
    "from ta import add_all_ta_features\n",
    "from sklearn.cluster import KMeans\n",
    "from sklearn.preprocessing import StandardScaler\n",
    "from sklearn.decomposition import PCA\n",
    "from sklearn.model_selection import GridSearchCV\n",
    "from sklearn.ensemble import GradientBoostingRegressor\n",
    "from sklearn.model_selection import GridSearchCV\n",
    "from sklearn.linear_model import LinearRegression\n",
    "from sklearn.ensemble import RandomForestRegressor\n",
    "from sklearn.model_selection import train_test_split\n",
    "from sklearn.metrics import mean_squared_error\n",
    "from sklearn.svm import SVR\n",
    "from statsmodels.tsa.stattools import adfuller\n",
    "from scipy import stats"
   ]
  },
  {
   "cell_type": "code",
   "execution_count": 2,
   "id": "20f7d817-69fd-4ad5-af62-8b90a58d7d57",
   "metadata": {},
   "outputs": [
    {
     "data": {
      "text/html": [
       "<div>\n",
       "<style scoped>\n",
       "    .dataframe tbody tr th:only-of-type {\n",
       "        vertical-align: middle;\n",
       "    }\n",
       "\n",
       "    .dataframe tbody tr th {\n",
       "        vertical-align: top;\n",
       "    }\n",
       "\n",
       "    .dataframe thead th {\n",
       "        text-align: right;\n",
       "    }\n",
       "</style>\n",
       "<table border=\"1\" class=\"dataframe\">\n",
       "  <thead>\n",
       "    <tr style=\"text-align: right;\">\n",
       "      <th></th>\n",
       "      <th>Date</th>\n",
       "      <th>Open</th>\n",
       "      <th>High</th>\n",
       "      <th>Low</th>\n",
       "      <th>Close</th>\n",
       "      <th>Adj Close</th>\n",
       "      <th>Volume</th>\n",
       "    </tr>\n",
       "  </thead>\n",
       "  <tbody>\n",
       "    <tr>\n",
       "      <th>0</th>\n",
       "      <td>2004-08-25</td>\n",
       "      <td>2.614201</td>\n",
       "      <td>2.689918</td>\n",
       "      <td>2.587302</td>\n",
       "      <td>2.640104</td>\n",
       "      <td>2.637103</td>\n",
       "      <td>184645512</td>\n",
       "    </tr>\n",
       "    <tr>\n",
       "      <th>1</th>\n",
       "      <td>2004-08-26</td>\n",
       "      <td>2.613952</td>\n",
       "      <td>2.688672</td>\n",
       "      <td>2.606729</td>\n",
       "      <td>2.687676</td>\n",
       "      <td>2.684621</td>\n",
       "      <td>142572401</td>\n",
       "    </tr>\n",
       "    <tr>\n",
       "      <th>2</th>\n",
       "      <td>2004-08-27</td>\n",
       "      <td>2.692408</td>\n",
       "      <td>2.705360</td>\n",
       "      <td>2.632383</td>\n",
       "      <td>2.643840</td>\n",
       "      <td>2.640835</td>\n",
       "      <td>124826132</td>\n",
       "    </tr>\n",
       "    <tr>\n",
       "      <th>3</th>\n",
       "      <td>2004-08-30</td>\n",
       "      <td>2.622171</td>\n",
       "      <td>2.627402</td>\n",
       "      <td>2.540727</td>\n",
       "      <td>2.540727</td>\n",
       "      <td>2.537839</td>\n",
       "      <td>104429967</td>\n",
       "    </tr>\n",
       "    <tr>\n",
       "      <th>4</th>\n",
       "      <td>2004-08-31</td>\n",
       "      <td>2.547950</td>\n",
       "      <td>2.583068</td>\n",
       "      <td>2.544463</td>\n",
       "      <td>2.549693</td>\n",
       "      <td>2.546795</td>\n",
       "      <td>98825037</td>\n",
       "    </tr>\n",
       "  </tbody>\n",
       "</table>\n",
       "</div>"
      ],
      "text/plain": [
       "         Date      Open      High       Low     Close  Adj Close     Volume\n",
       "0  2004-08-25  2.614201  2.689918  2.587302  2.640104   2.637103  184645512\n",
       "1  2004-08-26  2.613952  2.688672  2.606729  2.687676   2.684621  142572401\n",
       "2  2004-08-27  2.692408  2.705360  2.632383  2.643840   2.640835  124826132\n",
       "3  2004-08-30  2.622171  2.627402  2.540727  2.540727   2.537839  104429967\n",
       "4  2004-08-31  2.547950  2.583068  2.544463  2.549693   2.546795   98825037"
      ]
     },
     "execution_count": 2,
     "metadata": {},
     "output_type": "execute_result"
    }
   ],
   "source": [
    "df1 = pd.read_csv('google_stockD_daily.csv')\n",
    "df1.head()"
   ]
  },
  {
   "cell_type": "code",
   "execution_count": 3,
   "id": "f1aa31b2-41f2-402d-be69-6dff5d63f27b",
   "metadata": {},
   "outputs": [
    {
     "data": {
      "text/html": [
       "<div>\n",
       "<style scoped>\n",
       "    .dataframe tbody tr th:only-of-type {\n",
       "        vertical-align: middle;\n",
       "    }\n",
       "\n",
       "    .dataframe tbody tr th {\n",
       "        vertical-align: top;\n",
       "    }\n",
       "\n",
       "    .dataframe thead th {\n",
       "        text-align: right;\n",
       "    }\n",
       "</style>\n",
       "<table border=\"1\" class=\"dataframe\">\n",
       "  <thead>\n",
       "    <tr style=\"text-align: right;\">\n",
       "      <th></th>\n",
       "      <th>Date</th>\n",
       "      <th>Open</th>\n",
       "      <th>High</th>\n",
       "      <th>Low</th>\n",
       "      <th>Close</th>\n",
       "      <th>Adj Close</th>\n",
       "      <th>Volume</th>\n",
       "    </tr>\n",
       "  </thead>\n",
       "  <tbody>\n",
       "    <tr>\n",
       "      <th>0</th>\n",
       "      <td>2004-08-16</td>\n",
       "      <td>2.490664</td>\n",
       "      <td>2.716817</td>\n",
       "      <td>2.390042</td>\n",
       "      <td>2.697639</td>\n",
       "      <td>2.694573</td>\n",
       "      <td>1356284704</td>\n",
       "    </tr>\n",
       "    <tr>\n",
       "      <th>1</th>\n",
       "      <td>2004-08-23</td>\n",
       "      <td>2.758411</td>\n",
       "      <td>2.826406</td>\n",
       "      <td>2.579581</td>\n",
       "      <td>2.643840</td>\n",
       "      <td>2.640835</td>\n",
       "      <td>1125298143</td>\n",
       "    </tr>\n",
       "    <tr>\n",
       "      <th>2</th>\n",
       "      <td>2004-08-30</td>\n",
       "      <td>2.622171</td>\n",
       "      <td>2.627402</td>\n",
       "      <td>2.464263</td>\n",
       "      <td>2.490913</td>\n",
       "      <td>2.488082</td>\n",
       "      <td>794237881</td>\n",
       "    </tr>\n",
       "    <tr>\n",
       "      <th>3</th>\n",
       "      <td>2004-09-06</td>\n",
       "      <td>2.515820</td>\n",
       "      <td>2.654052</td>\n",
       "      <td>2.480951</td>\n",
       "      <td>2.623417</td>\n",
       "      <td>2.620435</td>\n",
       "      <td>474118476</td>\n",
       "    </tr>\n",
       "    <tr>\n",
       "      <th>4</th>\n",
       "      <td>2004-09-13</td>\n",
       "      <td>2.655795</td>\n",
       "      <td>2.926282</td>\n",
       "      <td>2.651561</td>\n",
       "      <td>2.926282</td>\n",
       "      <td>2.922956</td>\n",
       "      <td>967075300</td>\n",
       "    </tr>\n",
       "  </tbody>\n",
       "</table>\n",
       "</div>"
      ],
      "text/plain": [
       "         Date      Open      High       Low     Close  Adj Close      Volume\n",
       "0  2004-08-16  2.490664  2.716817  2.390042  2.697639   2.694573  1356284704\n",
       "1  2004-08-23  2.758411  2.826406  2.579581  2.643840   2.640835  1125298143\n",
       "2  2004-08-30  2.622171  2.627402  2.464263  2.490913   2.488082   794237881\n",
       "3  2004-09-06  2.515820  2.654052  2.480951  2.623417   2.620435   474118476\n",
       "4  2004-09-13  2.655795  2.926282  2.651561  2.926282   2.922956   967075300"
      ]
     },
     "execution_count": 3,
     "metadata": {},
     "output_type": "execute_result"
    }
   ],
   "source": [
    "df2 = pd.read_csv('google_stockD_weekly.csv')\n",
    "df2.head()"
   ]
  },
  {
   "cell_type": "code",
   "execution_count": 4,
   "id": "b882a01f-6204-4184-b75e-55c378165c33",
   "metadata": {},
   "outputs": [
    {
     "data": {
      "text/html": [
       "<div>\n",
       "<style scoped>\n",
       "    .dataframe tbody tr th:only-of-type {\n",
       "        vertical-align: middle;\n",
       "    }\n",
       "\n",
       "    .dataframe tbody tr th {\n",
       "        vertical-align: top;\n",
       "    }\n",
       "\n",
       "    .dataframe thead th {\n",
       "        text-align: right;\n",
       "    }\n",
       "</style>\n",
       "<table border=\"1\" class=\"dataframe\">\n",
       "  <thead>\n",
       "    <tr style=\"text-align: right;\">\n",
       "      <th></th>\n",
       "      <th>Date</th>\n",
       "      <th>Open</th>\n",
       "      <th>High</th>\n",
       "      <th>Low</th>\n",
       "      <th>Close</th>\n",
       "      <th>Adj Close</th>\n",
       "      <th>Volume</th>\n",
       "    </tr>\n",
       "  </thead>\n",
       "  <tbody>\n",
       "    <tr>\n",
       "      <th>0</th>\n",
       "      <td>2004-09-01</td>\n",
       "      <td>2.557912</td>\n",
       "      <td>3.362895</td>\n",
       "      <td>2.464263</td>\n",
       "      <td>3.227901</td>\n",
       "      <td>3.224232</td>\n",
       "      <td>4270113667</td>\n",
       "    </tr>\n",
       "    <tr>\n",
       "      <th>1</th>\n",
       "      <td>2004-10-01</td>\n",
       "      <td>3.257789</td>\n",
       "      <td>4.980083</td>\n",
       "      <td>3.210466</td>\n",
       "      <td>4.748203</td>\n",
       "      <td>4.742805</td>\n",
       "      <td>10321258145</td>\n",
       "    </tr>\n",
       "    <tr>\n",
       "      <th>2</th>\n",
       "      <td>2004-11-01</td>\n",
       "      <td>4.820681</td>\n",
       "      <td>5.021179</td>\n",
       "      <td>4.017691</td>\n",
       "      <td>4.532511</td>\n",
       "      <td>4.527359</td>\n",
       "      <td>11145383635</td>\n",
       "    </tr>\n",
       "    <tr>\n",
       "      <th>3</th>\n",
       "      <td>2004-12-01</td>\n",
       "      <td>4.531764</td>\n",
       "      <td>4.978340</td>\n",
       "      <td>4.196022</td>\n",
       "      <td>4.801752</td>\n",
       "      <td>4.796294</td>\n",
       "      <td>5835483147</td>\n",
       "    </tr>\n",
       "    <tr>\n",
       "      <th>4</th>\n",
       "      <td>2005-01-01</td>\n",
       "      <td>4.916571</td>\n",
       "      <td>5.113334</td>\n",
       "      <td>4.390792</td>\n",
       "      <td>4.872238</td>\n",
       "      <td>4.866700</td>\n",
       "      <td>8237356337</td>\n",
       "    </tr>\n",
       "  </tbody>\n",
       "</table>\n",
       "</div>"
      ],
      "text/plain": [
       "         Date      Open      High       Low     Close  Adj Close       Volume\n",
       "0  2004-09-01  2.557912  3.362895  2.464263  3.227901   3.224232   4270113667\n",
       "1  2004-10-01  3.257789  4.980083  3.210466  4.748203   4.742805  10321258145\n",
       "2  2004-11-01  4.820681  5.021179  4.017691  4.532511   4.527359  11145383635\n",
       "3  2004-12-01  4.531764  4.978340  4.196022  4.801752   4.796294   5835483147\n",
       "4  2005-01-01  4.916571  5.113334  4.390792  4.872238   4.866700   8237356337"
      ]
     },
     "execution_count": 4,
     "metadata": {},
     "output_type": "execute_result"
    }
   ],
   "source": [
    "df3 = pd.read_csv('google_stockD_monthly.csv')\n",
    "df3.head()"
   ]
  },
  {
   "cell_type": "markdown",
   "id": "319066d0-847c-4cd0-8681-d934aacb3cc6",
   "metadata": {},
   "source": [
    "#### Merging data"
   ]
  },
  {
   "cell_type": "code",
   "execution_count": 5,
   "id": "b232fdd0-5a57-496b-9eb0-f25f320209dc",
   "metadata": {},
   "outputs": [
    {
     "name": "stdout",
     "output_type": "stream",
     "text": [
      "         Date      Open      High       Low     Close  Adj Close     Volume\n",
      "0  2004-08-25  2.614201  2.689918  2.587302  2.640104   2.637103  184645512\n",
      "1  2004-08-26  2.613952  2.688672  2.606729  2.687676   2.684621  142572401\n",
      "2  2004-08-27  2.692408  2.705360  2.632383  2.643840   2.640835  124826132\n",
      "3  2004-08-30  2.622171  2.627402  2.540727  2.540727   2.537839  104429967\n",
      "4  2004-08-31  2.547950  2.583068  2.544463  2.549693   2.546795   98825037\n"
     ]
    }
   ],
   "source": [
    "#Merging all 3 datasets\n",
    "\n",
    "# Read the tables from their respective files\n",
    "df1 = pd.read_csv(\"google_stockD_daily.csv\")\n",
    "df2 = pd.read_csv(\"google_stockD_weekly.csv\")\n",
    "df3 = pd.read_csv(\"google_stockD_monthly.csv\")\n",
    "\n",
    "# Merge the tables based on the \"Date\" column\n",
    "df = pd.concat([df1,df2,df3], ignore_index=True, sort=False)\n",
    "\n",
    "# Print the merged table without the \"Unnamed: 0\" column\n",
    "print(df.head())"
   ]
  },
  {
   "cell_type": "markdown",
   "id": "fb772a1d-3b41-4ef4-97f9-909f0e2aab92",
   "metadata": {},
   "source": [
    "#### Information About the Data"
   ]
  },
  {
   "cell_type": "code",
   "execution_count": 6,
   "id": "c0a253bb-f6bb-49bf-8ac1-a0bd924b3ce7",
   "metadata": {},
   "outputs": [
    {
     "name": "stdout",
     "output_type": "stream",
     "text": [
      "<class 'pandas.core.frame.DataFrame'>\n",
      "RangeIndex: 6265 entries, 0 to 6264\n",
      "Data columns (total 7 columns):\n",
      " #   Column     Non-Null Count  Dtype  \n",
      "---  ------     --------------  -----  \n",
      " 0   Date       6265 non-null   object \n",
      " 1   Open       6265 non-null   float64\n",
      " 2   High       6265 non-null   float64\n",
      " 3   Low        6265 non-null   float64\n",
      " 4   Close      6265 non-null   float64\n",
      " 5   Adj Close  6265 non-null   float64\n",
      " 6   Volume     6265 non-null   int64  \n",
      "dtypes: float64(5), int64(1), object(1)\n",
      "memory usage: 342.7+ KB\n"
     ]
    }
   ],
   "source": [
    "df.info()"
   ]
  },
  {
   "cell_type": "code",
   "execution_count": 7,
   "id": "6035290f-f68c-4860-aa09-c3b445c06e2a",
   "metadata": {},
   "outputs": [
    {
     "data": {
      "text/plain": [
       "Date          object\n",
       "Open         float64\n",
       "High         float64\n",
       "Low          float64\n",
       "Close        float64\n",
       "Adj Close    float64\n",
       "Volume         int64\n",
       "dtype: object"
      ]
     },
     "execution_count": 7,
     "metadata": {},
     "output_type": "execute_result"
    }
   ],
   "source": [
    "# Describes the following aspects of the data: Type of the data (integer, float, Python object, etc.)\n",
    "df.dtypes"
   ]
  },
  {
   "cell_type": "code",
   "execution_count": 8,
   "id": "ca511670-53cb-4d28-b7a9-06cfaaca496e",
   "metadata": {},
   "outputs": [
    {
     "name": "stdout",
     "output_type": "stream",
     "text": [
      "\n",
      "The Dataset has 6265 rows and 7 columns.\n"
     ]
    }
   ],
   "source": [
    "#Print the shape of Dataframe\n",
    "rows, columns = df.shape\n",
    "print(f\"\\nThe Dataset has {rows} rows and {columns} columns.\")"
   ]
  },
  {
   "cell_type": "code",
   "execution_count": 9,
   "id": "7325dd22-965e-4b57-ac5b-90f295de8fe5",
   "metadata": {},
   "outputs": [
    {
     "name": "stdout",
     "output_type": "stream",
     "text": [
      "Null Values in Dataframe:\n",
      " Date         0\n",
      "Open         0\n",
      "High         0\n",
      "Low          0\n",
      "Close        0\n",
      "Adj Close    0\n",
      "Volume       0\n",
      "dtype: int64\n"
     ]
    }
   ],
   "source": [
    "#Check for Null Values\n",
    "print('Null Values in Dataframe:\\n', df.isnull().sum())"
   ]
  },
  {
   "cell_type": "code",
   "execution_count": 10,
   "id": "e7ddfce5-deeb-4192-bead-e00640987253",
   "metadata": {},
   "outputs": [
    {
     "data": {
      "text/plain": [
       "Date         5171\n",
       "Open         4838\n",
       "High         4843\n",
       "Low          4878\n",
       "Close        4894\n",
       "Adj Close    4896\n",
       "Volume       6147\n",
       "dtype: int64"
      ]
     },
     "execution_count": 10,
     "metadata": {},
     "output_type": "execute_result"
    }
   ],
   "source": [
    "# Finding Unique values\n",
    "df.nunique()"
   ]
  },
  {
   "cell_type": "markdown",
   "id": "cbc3350f-be65-4610-b754-e30a103042e9",
   "metadata": {},
   "source": [
    "#### Trend over time"
   ]
  },
  {
   "cell_type": "markdown",
   "id": "4c9de73f-b558-4596-9208-c5cbd07343dc",
   "metadata": {},
   "source": [
    "#### Closing Price"
   ]
  },
  {
   "cell_type": "code",
   "execution_count": 11,
   "id": "b26ccaf2-d0ba-4716-a5e1-342707601a34",
   "metadata": {},
   "outputs": [
    {
     "data": {
      "text/html": [
       "<div>\n",
       "<style scoped>\n",
       "    .dataframe tbody tr th:only-of-type {\n",
       "        vertical-align: middle;\n",
       "    }\n",
       "\n",
       "    .dataframe tbody tr th {\n",
       "        vertical-align: top;\n",
       "    }\n",
       "\n",
       "    .dataframe thead th {\n",
       "        text-align: right;\n",
       "    }\n",
       "</style>\n",
       "<table border=\"1\" class=\"dataframe\">\n",
       "  <thead>\n",
       "    <tr style=\"text-align: right;\">\n",
       "      <th></th>\n",
       "      <th>Date</th>\n",
       "      <th>Open</th>\n",
       "      <th>High</th>\n",
       "      <th>Low</th>\n",
       "      <th>Close</th>\n",
       "      <th>Adj Close</th>\n",
       "      <th>Volume</th>\n",
       "    </tr>\n",
       "  </thead>\n",
       "  <tbody>\n",
       "    <tr>\n",
       "      <th>0</th>\n",
       "      <td>2004-08-25</td>\n",
       "      <td>2.614201</td>\n",
       "      <td>2.689918</td>\n",
       "      <td>2.587302</td>\n",
       "      <td>2.640104</td>\n",
       "      <td>2.637103</td>\n",
       "      <td>184645512</td>\n",
       "    </tr>\n",
       "    <tr>\n",
       "      <th>1</th>\n",
       "      <td>2004-08-26</td>\n",
       "      <td>2.613952</td>\n",
       "      <td>2.688672</td>\n",
       "      <td>2.606729</td>\n",
       "      <td>2.687676</td>\n",
       "      <td>2.684621</td>\n",
       "      <td>142572401</td>\n",
       "    </tr>\n",
       "    <tr>\n",
       "      <th>2</th>\n",
       "      <td>2004-08-27</td>\n",
       "      <td>2.692408</td>\n",
       "      <td>2.705360</td>\n",
       "      <td>2.632383</td>\n",
       "      <td>2.643840</td>\n",
       "      <td>2.640835</td>\n",
       "      <td>124826132</td>\n",
       "    </tr>\n",
       "    <tr>\n",
       "      <th>3</th>\n",
       "      <td>2004-08-30</td>\n",
       "      <td>2.622171</td>\n",
       "      <td>2.627402</td>\n",
       "      <td>2.540727</td>\n",
       "      <td>2.540727</td>\n",
       "      <td>2.537839</td>\n",
       "      <td>104429967</td>\n",
       "    </tr>\n",
       "    <tr>\n",
       "      <th>4</th>\n",
       "      <td>2004-08-31</td>\n",
       "      <td>2.547950</td>\n",
       "      <td>2.583068</td>\n",
       "      <td>2.544463</td>\n",
       "      <td>2.549693</td>\n",
       "      <td>2.546795</td>\n",
       "      <td>98825037</td>\n",
       "    </tr>\n",
       "    <tr>\n",
       "      <th>...</th>\n",
       "      <td>...</td>\n",
       "      <td>...</td>\n",
       "      <td>...</td>\n",
       "      <td>...</td>\n",
       "      <td>...</td>\n",
       "      <td>...</td>\n",
       "      <td>...</td>\n",
       "    </tr>\n",
       "    <tr>\n",
       "      <th>6260</th>\n",
       "      <td>2024-03-01</td>\n",
       "      <td>139.610001</td>\n",
       "      <td>153.199997</td>\n",
       "      <td>131.550003</td>\n",
       "      <td>152.259995</td>\n",
       "      <td>152.086929</td>\n",
       "      <td>507013200</td>\n",
       "    </tr>\n",
       "    <tr>\n",
       "      <th>6261</th>\n",
       "      <td>2024-04-01</td>\n",
       "      <td>151.830002</td>\n",
       "      <td>176.419998</td>\n",
       "      <td>151.080994</td>\n",
       "      <td>164.639999</td>\n",
       "      <td>164.452866</td>\n",
       "      <td>486888300</td>\n",
       "    </tr>\n",
       "    <tr>\n",
       "      <th>6262</th>\n",
       "      <td>2024-05-01</td>\n",
       "      <td>166.179993</td>\n",
       "      <td>179.949997</td>\n",
       "      <td>164.899994</td>\n",
       "      <td>173.960007</td>\n",
       "      <td>173.762268</td>\n",
       "      <td>391987600</td>\n",
       "    </tr>\n",
       "    <tr>\n",
       "      <th>6263</th>\n",
       "      <td>2024-06-01</td>\n",
       "      <td>173.880005</td>\n",
       "      <td>182.511993</td>\n",
       "      <td>172.449997</td>\n",
       "      <td>180.259995</td>\n",
       "      <td>180.055099</td>\n",
       "      <td>264028500</td>\n",
       "    </tr>\n",
       "    <tr>\n",
       "      <th>6264</th>\n",
       "      <td>2024-06-21</td>\n",
       "      <td>178.399994</td>\n",
       "      <td>182.511703</td>\n",
       "      <td>178.089996</td>\n",
       "      <td>180.259995</td>\n",
       "      <td>180.259995</td>\n",
       "      <td>59728019</td>\n",
       "    </tr>\n",
       "  </tbody>\n",
       "</table>\n",
       "<p>6265 rows × 7 columns</p>\n",
       "</div>"
      ],
      "text/plain": [
       "            Date        Open        High         Low       Close   Adj Close  \\\n",
       "0     2004-08-25    2.614201    2.689918    2.587302    2.640104    2.637103   \n",
       "1     2004-08-26    2.613952    2.688672    2.606729    2.687676    2.684621   \n",
       "2     2004-08-27    2.692408    2.705360    2.632383    2.643840    2.640835   \n",
       "3     2004-08-30    2.622171    2.627402    2.540727    2.540727    2.537839   \n",
       "4     2004-08-31    2.547950    2.583068    2.544463    2.549693    2.546795   \n",
       "...          ...         ...         ...         ...         ...         ...   \n",
       "6260  2024-03-01  139.610001  153.199997  131.550003  152.259995  152.086929   \n",
       "6261  2024-04-01  151.830002  176.419998  151.080994  164.639999  164.452866   \n",
       "6262  2024-05-01  166.179993  179.949997  164.899994  173.960007  173.762268   \n",
       "6263  2024-06-01  173.880005  182.511993  172.449997  180.259995  180.055099   \n",
       "6264  2024-06-21  178.399994  182.511703  178.089996  180.259995  180.259995   \n",
       "\n",
       "         Volume  \n",
       "0     184645512  \n",
       "1     142572401  \n",
       "2     124826132  \n",
       "3     104429967  \n",
       "4      98825037  \n",
       "...         ...  \n",
       "6260  507013200  \n",
       "6261  486888300  \n",
       "6262  391987600  \n",
       "6263  264028500  \n",
       "6264   59728019  \n",
       "\n",
       "[6265 rows x 7 columns]"
      ]
     },
     "execution_count": 11,
     "metadata": {},
     "output_type": "execute_result"
    }
   ],
   "source": [
    "df"
   ]
  },
  {
   "cell_type": "code",
   "execution_count": 12,
   "id": "a4751816-41a5-403e-917f-494e44fcf2c4",
   "metadata": {},
   "outputs": [
    {
     "data": {
      "text/plain": [
       "(6265, 7)"
      ]
     },
     "execution_count": 12,
     "metadata": {},
     "output_type": "execute_result"
    }
   ],
   "source": [
    "df.shape"
   ]
  },
  {
   "cell_type": "code",
   "execution_count": 13,
   "id": "2f68f39d-9478-4014-95a5-4944c23b81b2",
   "metadata": {},
   "outputs": [
    {
     "data": {
      "image/png": "[encoded data removed]",
      "text/plain": [
       "<Figure size 1600x800 with 1 Axes>"
      ]
     },
     "metadata": {},
     "output_type": "display_data"
    }
   ],
   "source": [
    "# Visualize the closing price history\n",
    "plt.figure(figsize=(16, 8))\n",
    "plt.title('Close Price History')\n",
    "plt.plot(df['Close'])\n",
    "plt.xlabel(None)\n",
    "plt.ylabel('Close Price', fontsize=18)\n",
    "plt.show()\n"
   ]
  },
  {
   "cell_type": "markdown",
   "id": "ddef14b5-22bd-4f1e-91d3-9c97bda73055",
   "metadata": {},
   "source": [
    "#### Volume of Sales"
   ]
  },
  {
   "cell_type": "code",
   "execution_count": 14,
   "id": "caff42ef-3cbc-497f-b974-a5b03e7a9392",
   "metadata": {},
   "outputs": [
    {
     "data": {
      "image/png": "[encoded data removed]",
      "text/plain": [
       "<Figure size 640x480 with 1 Axes>"
      ]
     },
     "metadata": {},
     "output_type": "display_data"
    }
   ],
   "source": [
    "# Plotting the 'Volume' column from df\n",
    "plt.plot(df['Volume'])\n",
    "plt.xlabel('Date')\n",
    "plt.ylabel('Volume')\n",
    "plt.title('Daily Trading Volume')\n",
    "\n",
    "plt.grid(True)\n",
    "plt.show()"
   ]
  },
  {
   "cell_type": "markdown",
   "id": "b1ba48f7-cd19-4aca-b328-dcaba99c72fc",
   "metadata": {},
   "source": [
    "#### Moving average"
   ]
  },
  {
   "cell_type": "code",
   "execution_count": null,
   "id": "82d19af8-2d3c-41fd-b5eb-2e066007abcd",
   "metadata": {},
   "outputs": [],
   "source": []
  }
 ],
 "metadata": {
  "kernelspec": {
   "display_name": "Python 3 (ipykernel)",
   "language": "python",
   "name": "python3"
  },
  "language_info": {
   "codemirror_mode": {
    "name": "ipython",
    "version": 3
   },
   "file_extension": ".py",
   "mimetype": "text/x-python",
   "name": "python",
   "nbconvert_exporter": "python",
   "pygments_lexer": "ipython3",
   "version": "3.10.7"
  }
 },
 "nbformat": 4,
 "nbformat_minor": 5
}
